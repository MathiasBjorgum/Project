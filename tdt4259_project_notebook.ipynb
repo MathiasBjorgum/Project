{
 "cells": [
  {
   "cell_type": "markdown",
   "metadata": {},
   "source": [
    "# Notebook for the project in *TDT4259 - Applied Data Science*"
   ]
  },
  {
   "cell_type": "markdown",
   "metadata": {},
   "source": [
    "Necessary imports"
   ]
  },
  {
   "cell_type": "code",
   "execution_count": 10,
   "metadata": {},
   "outputs": [],
   "source": [
    "import sys\n",
    "import warnings\n",
    "from pathlib import Path\n",
    "\n",
    "import tikzplotlib\n",
    "\n",
    "warnings.filterwarnings(\"ignore\")\n",
    "import pandas as pd\n",
    "import numpy as np\n",
    "\n",
    "sys.path.append(\".\")\n",
    "\n",
    "from util.dataset_manipulation import get_and_process_df\n",
    "from util.model_utils import train_test_model\n",
    "\n",
    "from dmba import plotDecisionTree\n",
    "\n",
    "FIG_PATH = Path.cwd().joinpath(\"figures\")"
   ]
  },
  {
   "cell_type": "markdown",
   "metadata": {},
   "source": [
    "We start by preprocessing the columns to be on a concise format."
   ]
  },
  {
   "cell_type": "code",
   "execution_count": 11,
   "metadata": {},
   "outputs": [],
   "source": [
    "dataset = get_and_process_df(\"train_data.csv\")\n",
    "desc_dataset = get_and_process_df(\"train_data.csv\", False)"
   ]
  },
  {
   "cell_type": "markdown",
   "metadata": {},
   "source": [
    "## Creating some descriptive statistics"
   ]
  },
  {
   "cell_type": "code",
   "execution_count": 12,
   "metadata": {},
   "outputs": [],
   "source": [
    "attrition_pr_city = desc_dataset.groupby(\"City\")[\"Attrition\"].count()"
   ]
  },
  {
   "cell_type": "code",
   "execution_count": 13,
   "metadata": {},
   "outputs": [
    {
     "ename": "AttributeError",
     "evalue": "'Legend' object has no attribute '_ncol'",
     "output_type": "error",
     "traceback": [
      "\u001B[1;31m---------------------------------------------------------------------------\u001B[0m",
      "\u001B[1;31mAttributeError\u001B[0m                            Traceback (most recent call last)",
      "Cell \u001B[1;32mIn [13], line 15\u001B[0m\n\u001B[0;32m     11\u001B[0m combined \u001B[38;5;241m=\u001B[39m combined\u001B[38;5;241m.\u001B[39mdiv(combined\u001B[38;5;241m.\u001B[39msum(axis\u001B[38;5;241m=\u001B[39m\u001B[38;5;241m1\u001B[39m), axis\u001B[38;5;241m=\u001B[39m\u001B[38;5;241m0\u001B[39m)\n\u001B[0;32m     13\u001B[0m combined\u001B[38;5;241m.\u001B[39mplot(kind\u001B[38;5;241m=\u001B[39m\u001B[38;5;124m\"\u001B[39m\u001B[38;5;124mbar\u001B[39m\u001B[38;5;124m\"\u001B[39m, stacked\u001B[38;5;241m=\u001B[39m\u001B[38;5;28;01mTrue\u001B[39;00m, color\u001B[38;5;241m=\u001B[39m[\u001B[38;5;124m'\u001B[39m\u001B[38;5;124m#ff7f0e\u001B[39m\u001B[38;5;124m'\u001B[39m, \u001B[38;5;124m'\u001B[39m\u001B[38;5;124m#1f77b4\u001B[39m\u001B[38;5;124m'\u001B[39m])\n\u001B[1;32m---> 15\u001B[0m \u001B[43mtikzplotlib\u001B[49m\u001B[38;5;241;43m.\u001B[39;49m\u001B[43msave\u001B[49m\u001B[43m(\u001B[49m\u001B[43mFIG_PATH\u001B[49m\u001B[38;5;241;43m.\u001B[39;49m\u001B[43mjoinpath\u001B[49m\u001B[43m(\u001B[49m\u001B[38;5;124;43m\"\u001B[39;49m\u001B[38;5;124;43mgroup_by_city.tex\u001B[39;49m\u001B[38;5;124;43m\"\u001B[39;49m\u001B[43m)\u001B[49m\u001B[43m)\u001B[49m\n",
      "File \u001B[1;32m~\\Desktop\\ntnu\\applied_data_science\\TDT4259-Project\\.venv\\lib\\site-packages\\tikzplotlib\\_save.py:262\u001B[0m, in \u001B[0;36msave\u001B[1;34m(filepath, encoding, *args, **kwargs)\u001B[0m\n\u001B[0;32m    252\u001B[0m \u001B[38;5;28;01mdef\u001B[39;00m \u001B[38;5;21msave\u001B[39m(filepath: \u001B[38;5;28mstr\u001B[39m \u001B[38;5;241m|\u001B[39m Path, \u001B[38;5;241m*\u001B[39margs, encoding: \u001B[38;5;28mstr\u001B[39m \u001B[38;5;241m|\u001B[39m \u001B[38;5;28;01mNone\u001B[39;00m \u001B[38;5;241m=\u001B[39m \u001B[38;5;28;01mNone\u001B[39;00m, \u001B[38;5;241m*\u001B[39m\u001B[38;5;241m*\u001B[39mkwargs):\n\u001B[0;32m    253\u001B[0m     \u001B[38;5;124;03m\"\"\"Same as `get_tikz_code()`, but actually saves the code to a file.\u001B[39;00m\n\u001B[0;32m    254\u001B[0m \n\u001B[0;32m    255\u001B[0m \u001B[38;5;124;03m    :param filepath: The file to which the TikZ output will be written.\u001B[39;00m\n\u001B[1;32m   (...)\u001B[0m\n\u001B[0;32m    260\u001B[0m \u001B[38;5;124;03m    :returns: None\u001B[39;00m\n\u001B[0;32m    261\u001B[0m \u001B[38;5;124;03m    \"\"\"\u001B[39;00m\n\u001B[1;32m--> 262\u001B[0m     code \u001B[38;5;241m=\u001B[39m get_tikz_code(\u001B[38;5;241m*\u001B[39margs, filepath\u001B[38;5;241m=\u001B[39mfilepath, \u001B[38;5;241m*\u001B[39m\u001B[38;5;241m*\u001B[39mkwargs)\n\u001B[0;32m    263\u001B[0m     \u001B[38;5;28;01mwith\u001B[39;00m \u001B[38;5;28mopen\u001B[39m(filepath, \u001B[38;5;124m\"\u001B[39m\u001B[38;5;124mw\u001B[39m\u001B[38;5;124m\"\u001B[39m, encoding\u001B[38;5;241m=\u001B[39mencoding) \u001B[38;5;28;01mas\u001B[39;00m f:\n\u001B[0;32m    264\u001B[0m         f\u001B[38;5;241m.\u001B[39mwrite(code)\n",
      "File \u001B[1;32m~\\Desktop\\ntnu\\applied_data_science\\TDT4259-Project\\.venv\\lib\\site-packages\\tikzplotlib\\_save.py:213\u001B[0m, in \u001B[0;36mget_tikz_code\u001B[1;34m(figure, filepath, axis_width, axis_height, textsize, tex_relative_path_to_data, externalize_tables, override_externals, externals_search_path, strict, wrap, add_axis_environment, extra_axis_parameters, extra_groupstyle_parameters, extra_tikzpicture_parameters, extra_lines_start, dpi, show_info, include_disclaimer, standalone, float_format, table_row_sep, flavor)\u001B[0m\n\u001B[0;32m    210\u001B[0m     _print_pgfplot_libs_message(data)\n\u001B[0;32m    212\u001B[0m \u001B[38;5;66;03m# gather the file content\u001B[39;00m\n\u001B[1;32m--> 213\u001B[0m data, content \u001B[38;5;241m=\u001B[39m \u001B[43m_recurse\u001B[49m\u001B[43m(\u001B[49m\u001B[43mdata\u001B[49m\u001B[43m,\u001B[49m\u001B[43m \u001B[49m\u001B[43mfigure\u001B[49m\u001B[43m)\u001B[49m\n\u001B[0;32m    215\u001B[0m \u001B[38;5;66;03m# Check if there is still an open groupplot environment. This occurs if not\u001B[39;00m\n\u001B[0;32m    216\u001B[0m \u001B[38;5;66;03m# all of the group plot slots are used.\u001B[39;00m\n\u001B[0;32m    217\u001B[0m \u001B[38;5;28;01mif\u001B[39;00m \u001B[38;5;124m\"\u001B[39m\u001B[38;5;124mis_in_groupplot_env\u001B[39m\u001B[38;5;124m\"\u001B[39m \u001B[38;5;129;01min\u001B[39;00m data \u001B[38;5;129;01mand\u001B[39;00m data[\u001B[38;5;124m\"\u001B[39m\u001B[38;5;124mis_in_groupplot_env\u001B[39m\u001B[38;5;124m\"\u001B[39m]:\n",
      "File \u001B[1;32m~\\Desktop\\ntnu\\applied_data_science\\TDT4259-Project\\.venv\\lib\\site-packages\\tikzplotlib\\_save.py:352\u001B[0m, in \u001B[0;36m_recurse\u001B[1;34m(data, obj)\u001B[0m\n\u001B[0;32m    349\u001B[0m data[\u001B[38;5;124m\"\u001B[39m\u001B[38;5;124mcurrent axes\u001B[39m\u001B[38;5;124m\"\u001B[39m] \u001B[38;5;241m=\u001B[39m ax\n\u001B[0;32m    351\u001B[0m \u001B[38;5;66;03m# Run through the child objects, gather the content.\u001B[39;00m\n\u001B[1;32m--> 352\u001B[0m data, children_content \u001B[38;5;241m=\u001B[39m \u001B[43m_recurse\u001B[49m\u001B[43m(\u001B[49m\u001B[43mdata\u001B[49m\u001B[43m,\u001B[49m\u001B[43m \u001B[49m\u001B[43mchild\u001B[49m\u001B[43m)\u001B[49m\n\u001B[0;32m    354\u001B[0m \u001B[38;5;66;03m# populate content and add axis environment if desired\u001B[39;00m\n\u001B[0;32m    355\u001B[0m \u001B[38;5;28;01mif\u001B[39;00m data[\u001B[38;5;124m\"\u001B[39m\u001B[38;5;124madd axis environment\u001B[39m\u001B[38;5;124m\"\u001B[39m]:\n",
      "File \u001B[1;32m~\\Desktop\\ntnu\\applied_data_science\\TDT4259-Project\\.venv\\lib\\site-packages\\tikzplotlib\\_save.py:380\u001B[0m, in \u001B[0;36m_recurse\u001B[1;34m(data, obj)\u001B[0m\n\u001B[0;32m    378\u001B[0m     content\u001B[38;5;241m.\u001B[39mextend(cont, child\u001B[38;5;241m.\u001B[39mget_zorder())\n\u001B[0;32m    379\u001B[0m \u001B[38;5;28;01melif\u001B[39;00m \u001B[38;5;28misinstance\u001B[39m(child, mpl\u001B[38;5;241m.\u001B[39mlegend\u001B[38;5;241m.\u001B[39mLegend):\n\u001B[1;32m--> 380\u001B[0m     data \u001B[38;5;241m=\u001B[39m \u001B[43m_legend\u001B[49m\u001B[38;5;241;43m.\u001B[39;49m\u001B[43mdraw_legend\u001B[49m\u001B[43m(\u001B[49m\u001B[43mdata\u001B[49m\u001B[43m,\u001B[49m\u001B[43m \u001B[49m\u001B[43mchild\u001B[49m\u001B[43m)\u001B[49m\n\u001B[0;32m    381\u001B[0m     \u001B[38;5;28;01mif\u001B[39;00m data[\u001B[38;5;124m\"\u001B[39m\u001B[38;5;124mlegend colors\u001B[39m\u001B[38;5;124m\"\u001B[39m]:\n\u001B[0;32m    382\u001B[0m         content\u001B[38;5;241m.\u001B[39mextend(data[\u001B[38;5;124m\"\u001B[39m\u001B[38;5;124mlegend colors\u001B[39m\u001B[38;5;124m\"\u001B[39m], \u001B[38;5;241m0\u001B[39m)\n",
      "File \u001B[1;32m~\\Desktop\\ntnu\\applied_data_science\\TDT4259-Project\\.venv\\lib\\site-packages\\tikzplotlib\\_legend.py:81\u001B[0m, in \u001B[0;36mdraw_legend\u001B[1;34m(data, obj)\u001B[0m\n\u001B[0;32m     78\u001B[0m \u001B[38;5;28;01mif\u001B[39;00m alignment:\n\u001B[0;32m     79\u001B[0m     data[\u001B[38;5;124m\"\u001B[39m\u001B[38;5;124mcurrent axes\u001B[39m\u001B[38;5;124m\"\u001B[39m]\u001B[38;5;241m.\u001B[39maxis_options\u001B[38;5;241m.\u001B[39mappend(\u001B[38;5;124mf\u001B[39m\u001B[38;5;124m\"\u001B[39m\u001B[38;5;124mlegend cell align=\u001B[39m\u001B[38;5;130;01m{{\u001B[39;00m\u001B[38;5;132;01m{\u001B[39;00malignment\u001B[38;5;132;01m}\u001B[39;00m\u001B[38;5;130;01m}}\u001B[39;00m\u001B[38;5;124m\"\u001B[39m)\n\u001B[1;32m---> 81\u001B[0m \u001B[38;5;28;01mif\u001B[39;00m \u001B[43mobj\u001B[49m\u001B[38;5;241;43m.\u001B[39;49m\u001B[43m_ncol\u001B[49m \u001B[38;5;241m!=\u001B[39m \u001B[38;5;241m1\u001B[39m:\n\u001B[0;32m     82\u001B[0m     data[\u001B[38;5;124m\"\u001B[39m\u001B[38;5;124mcurrent axes\u001B[39m\u001B[38;5;124m\"\u001B[39m]\u001B[38;5;241m.\u001B[39maxis_options\u001B[38;5;241m.\u001B[39mappend(\u001B[38;5;124mf\u001B[39m\u001B[38;5;124m\"\u001B[39m\u001B[38;5;124mlegend columns=\u001B[39m\u001B[38;5;132;01m{\u001B[39;00mobj\u001B[38;5;241m.\u001B[39m_ncol\u001B[38;5;132;01m}\u001B[39;00m\u001B[38;5;124m\"\u001B[39m)\n\u001B[0;32m     84\u001B[0m \u001B[38;5;66;03m# Write styles to data\u001B[39;00m\n",
      "\u001B[1;31mAttributeError\u001B[0m: 'Legend' object has no attribute '_ncol'"
     ]
    },
    {
     "data": {
      "text/plain": "<Figure size 640x480 with 1 Axes>",
      "image/png": "[encoded data removed]"
     },
     "metadata": {},
     "output_type": "display_data"
    }
   ],
   "source": [
    "attrition_0 = desc_dataset.groupby('City')['Attrition'].apply(lambda x: (x == 0).sum()).reset_index(name='attr = 0')\n",
    "attrition_1 = desc_dataset.groupby('City')['Attrition'].apply(lambda x: (x == 1).sum()).reset_index(name='attr_1')\n",
    "\n",
    "combined = attrition_0.copy()\n",
    "combined[\"attr = 0\"] = combined[\"attr = 0\"].astype(\"int\")\n",
    "combined[\"attr = 1\"] = attrition_1.attr_1.astype(\"int\")\n",
    "\n",
    "combined = combined.set_index(pd.Index(combined.City))\n",
    "combined = combined.drop(\"City\", axis=1)\n",
    "\n",
    "combined = combined.div(combined.sum(axis=1), axis=0)\n",
    "\n",
    "combined.plot(kind=\"bar\", stacked=True, color=['#ff7f0e', '#1f77b4'])\n",
    "\n",
    "tikzplotlib.save(FIG_PATH.joinpath(\"group_by_city.tex\"))"
   ]
  },
  {
   "cell_type": "code",
   "execution_count": null,
   "metadata": {},
   "outputs": [],
   "source": [
    "attrition_0 = desc_dataset.groupby('Gender')['Attrition'].apply(lambda x: (x == 0).sum()).reset_index(name='attr = 0')\n",
    "attrition_1 = desc_dataset.groupby('Gender')['Attrition'].apply(lambda x: (x == 1).sum()).reset_index(name='attr = 1')\n",
    "\n",
    "combined = attrition_0.copy()\n",
    "combined[\"attr = 0\"] = combined[\"attr = 0\"].astype(\"int\")\n",
    "combined[\"attr = 1\"] = attrition_1['attr = 1'].astype(\"int\")\n",
    "\n",
    "combined = combined.set_index(pd.Index(combined.Gender))\n",
    "combined = combined.drop(\"Gender\", axis=1)\n",
    "\n",
    "combined = combined.div(combined.sum(axis=1), axis=0)\n",
    "\n",
    "combined.plot(kind=\"bar\", color=['#ff7f0e', '#1f77b4'], stacked=True)\n",
    "\n",
    "tikzplotlib.save(FIG_PATH.joinpath(\"group_by_gender.tex\"))"
   ]
  },
  {
   "cell_type": "code",
   "execution_count": null,
   "metadata": {},
   "outputs": [],
   "source": [
    "attrition_0 = desc_dataset.groupby('Education_Level')['Attrition'].apply(lambda x: (x == 0).sum()).reset_index(\n",
    "    name='attr = 0')\n",
    "attrition_1 = desc_dataset.groupby('Education_Level')['Attrition'].apply(lambda x: (x == 1).sum()).reset_index(\n",
    "    name='attr = 1')\n",
    "\n",
    "combined = attrition_0.copy()\n",
    "combined[\"attr = 0\"] = combined[\"attr = 0\"].astype(\"int\")\n",
    "combined[\"attr = 1\"] = attrition_1['attr = 1'].astype(\"int\")\n",
    "\n",
    "combined = combined.set_index(pd.Index(combined.Education_Level))\n",
    "combined = combined.drop(\"Education_Level\", axis=1)\n",
    "\n",
    "combined = combined.div(combined.sum(axis=1), axis=0)\n",
    "\n",
    "combined.plot(kind=\"bar\", color=['#ff7f0e', '#1f77b4'], stacked=True)\n",
    "\n",
    "tikzplotlib.save(FIG_PATH.joinpath(\"group_by_education.tex\"))"
   ]
  },
  {
   "cell_type": "code",
   "execution_count": null,
   "metadata": {},
   "outputs": [],
   "source": [
    "# TODO: For whatever reason is the delta_designation missing here\n",
    "attrition_0 = desc_dataset.groupby('delta_designation')['Attrition'].apply(lambda x: (x == 0).sum()).reset_index(\n",
    "    name='attr = 0')\n",
    "attrition_1 = desc_dataset.groupby('delta_designation')['Attrition'].apply(lambda x: (x == 1).sum()).reset_index(\n",
    "    name='attr = 1')\n",
    "\n",
    "combined = attrition_0.copy()\n",
    "combined[\"attr = 0\"] = combined[\"attr = 0\"].astype(\"int\")\n",
    "combined[\"attr = 1\"] = attrition_1['attr = 1'].astype(\"int\")\n",
    "\n",
    "combined = combined.set_index(pd.Index(combined.delta_designation))\n",
    "combined = combined.drop(\"delta_designation\", axis=1)\n",
    "\n",
    "combined = combined.div(combined.sum(axis=1), axis=0)\n",
    "\n",
    "ax = combined.plot(kind=\"bar\", color=['#ff7f0e', '#1f77b4'], stacked=True)\n",
    "ax.bar_label(ax.containers[0])\n",
    "ax.bar_label(ax.containers[1])\n",
    "\n",
    "tikzplotlib.save(FIG_PATH.joinpath(\"group_by_designation.tex\"))"
   ]
  },
  {
   "cell_type": "code",
   "execution_count": null,
   "metadata": {},
   "outputs": [],
   "source": [
    "attrition_0 = desc_dataset.groupby('salary_bin')['Attrition'].apply(lambda x: (x == 0).sum()).reset_index(\n",
    "    name='attr = 0')\n",
    "attrition_1 = desc_dataset.groupby('salary_bin')['Attrition'].apply(lambda x: (x == 1).sum()).reset_index(\n",
    "    name='attr = 1')\n",
    "\n",
    "combined = attrition_0.copy()\n",
    "combined[\"attr = 0\"] = combined[\"attr = 0\"].astype(\"int\")\n",
    "combined[\"attr = 1\"] = attrition_1['attr = 1'].astype(\"int\")\n",
    "\n",
    "combined = combined.set_index(pd.Index(combined.salary_bin))\n",
    "combined = combined.drop(\"salary_bin\", axis=1)\n",
    "\n",
    "combined = combined.div(combined.sum(axis=1), axis=0)\n",
    "\n",
    "ax = combined.plot(kind=\"bar\", color=['#ff7f0e', '#1f77b4'], stacked=True)\n",
    "ax.bar_label(ax.containers[0])\n",
    "ax.bar_label(ax.containers[1])\n",
    "ax.set_xticklabels([1, 2, 3, 4, 5, 6, 7, 8])\n",
    "\n",
    "tikzplotlib.save(FIG_PATH.joinpath(\"group_by_salary.tex\"))"
   ]
  },
  {
   "cell_type": "markdown",
   "metadata": {},
   "source": [
    "# Prototyping some classifications"
   ]
  },
  {
   "cell_type": "code",
   "execution_count": null,
   "metadata": {},
   "outputs": [],
   "source": [
    "from sklearn.model_selection import train_test_split"
   ]
  },
  {
   "cell_type": "code",
   "execution_count": null,
   "metadata": {},
   "outputs": [],
   "source": [
    "X = dataset.drop(columns=[\"Date\",\n",
    "                          \"Attrition\",\n",
    "                          \"Emp_ID\",\n",
    "                          \"Date_Of_Joining\",\n",
    "                          \"Last_Working_Date\",\n",
    "                          \"Joining_Designation\",\n",
    "                          \"Designation\",\n",
    "                          \"Total_Business_Value\",\n",
    "                          # \"Work_Duration\",\n",
    "                          # \"Salary\"\n",
    "                          \"salary_bin\"\n",
    "                          ]\n",
    "                 )\n",
    "y = dataset[\"Attrition\"]"
   ]
  },
  {
   "cell_type": "code",
   "execution_count": null,
   "metadata": {},
   "outputs": [],
   "source": [
    "X_train, X_test, y_train, y_test = train_test_split(X, y, test_size=0.2, random_state=4259)"
   ]
  },
  {
   "cell_type": "code",
   "execution_count": null,
   "metadata": {},
   "outputs": [],
   "source": [
    "from sklearn.svm import SVC\n",
    "\n",
    "classifier = SVC()\n",
    "train_test_model(classifier, X_train, y_train, X_test, y_test)"
   ]
  },
  {
   "cell_type": "code",
   "execution_count": null,
   "metadata": {},
   "outputs": [],
   "source": [
    "'''\n",
    "# Start with an initial guess for parameters\n",
    "param_grid = {'C': [0.1, 1, 10, 100, 1000], \n",
    "              'gamma': [1, 0.1, 0.01, 0.001, 0.0001],\n",
    "              'kernel': ['sigmoid', 'rbf']} \n",
    "# Which values are best?\n",
    "# n_jobs=-1 will utilize all available CPUs\n",
    "gridSearch = GridSearchCV(SVC(), param_grid, cv=5,  refit = True, verbose = 0)\n",
    "gridSearch.fit(X_train, y_train)\n",
    "print('Initial score: ', gridSearch.best_score_)\n",
    "print('Initial parameters: ', gridSearch.best_params_)\n",
    "'''"
   ]
  },
  {
   "cell_type": "markdown",
   "metadata": {},
   "source": [
    "## Using a Decision Tree"
   ]
  },
  {
   "cell_type": "code",
   "execution_count": null,
   "metadata": {},
   "outputs": [],
   "source": [
    "from sklearn.tree import DecisionTreeClassifier\n",
    "\n",
    "dtc = DecisionTreeClassifier()\n",
    "\n",
    "model = train_test_model(dtc, X_train, y_train, X_test, y_test)"
   ]
  },
  {
   "cell_type": "code",
   "execution_count": null,
   "metadata": {},
   "outputs": [],
   "source": [
    "from sklearn.model_selection import GridSearchCV\n",
    "\n",
    "'''\n",
    "# Start with an initial guess for parameters\n",
    "param_grid = {\n",
    "'max_depth': [10, 20, 30, 40],\n",
    "'min_samples_split': [20, 40, 60, 80, 100],\n",
    "'min_impurity_decrease': [0, 0.0005, 0.001, 0.005, 0.01],\n",
    "'criterion': [\"gini\", \"entropy\"]\n",
    "}\n",
    "# Which values are best?\n",
    "# n_jobs=-1 will utilize all available CPUs\n",
    "gridSearch = GridSearchCV(DecisionTreeClassifier(random_state=1), param_grid, cv=5, n_jobs=-1)\n",
    "gridSearch.fit(X_train, y_train)\n",
    "print('Initial score: ', gridSearch.best_score_)\n",
    "print('Initial parameters: ', gridSearch.best_params_)\n",
    "'''"
   ]
  },
  {
   "cell_type": "code",
   "execution_count": null,
   "metadata": {},
   "outputs": [],
   "source": [
    "'''\n",
    "# Adapt grid based on result from initial grid search\n",
    "param_grid = {\n",
    "'max_depth': list(range(8, 16)), # 14 values\n",
    "# 'min_samples_split': list(range(10, 30)), # 11 values\n",
    "'min_samples_leaf': list(range(70, 100)),\n",
    "'min_impurity_decrease': [0.001, 0.002, 0.003, 0.004], # 3 values\n",
    "'criterion': [\"entropy\"]\n",
    "}\n",
    "gridSearch = GridSearchCV(DecisionTreeClassifier(random_state=1), param_grid, cv=5, n_jobs=-1)\n",
    "gridSearch.fit(X_train, y_train)\n",
    "print('Improved score: ', gridSearch.best_score_)\n",
    "print('Improved parameters: ', gridSearch.best_params_)\n",
    "bestClassTree = gridSearch.best_estimator_\n",
    "'''"
   ]
  },
  {
   "cell_type": "code",
   "execution_count": null,
   "metadata": {},
   "outputs": [],
   "source": [
    "dtc = DecisionTreeClassifier(criterion=\"entropy\", max_depth=8, min_impurity_decrease=0.001, min_samples_leaf=70,\n",
    "                             random_state=4259)\n",
    "\n",
    "model = train_test_model(dtc, X_train, y_train, X_test, y_test)"
   ]
  },
  {
   "cell_type": "code",
   "execution_count": null,
   "metadata": {},
   "outputs": [],
   "source": []
  },
  {
   "cell_type": "code",
   "execution_count": null,
   "metadata": {},
   "outputs": [],
   "source": [
    "plotDecisionTree(model, feature_names=X_train.columns, pdfFile=FIG_PATH.joinpath(\"tree.pdf\"))"
   ]
  },
  {
   "cell_type": "markdown",
   "metadata": {},
   "source": [
    "## Using logistic regression"
   ]
  },
  {
   "cell_type": "code",
   "execution_count": null,
   "metadata": {},
   "outputs": [],
   "source": [
    "from sklearn.linear_model import LogisticRegression\n",
    "\n",
    "lrc = LogisticRegression()\n",
    "model = train_test_model(lrc, X_train, y_train, X_test, y_test)"
   ]
  },
  {
   "cell_type": "code",
   "execution_count": null,
   "metadata": {},
   "outputs": [],
   "source": [
    "# Start with an initial guess for parameters\n",
    "param_grid = {\n",
    "    'penalty': [\"none\", \"l1\", \"l2\", \"elasticnet\"],\n",
    "    # 'tol': [20, 40, 60, 80, 100],\n",
    "    'C': [0.09, 0.1, 0.2, 0.3, 100, 1000]\n",
    "}\n",
    "# Which values are best?\n",
    "# n_jobs=-1 will utilize all available CPUs\n",
    "gridSearch = GridSearchCV(LogisticRegression(), param_grid, cv=5, n_jobs=-1)\n",
    "gridSearch.fit(X_train, y_train)\n",
    "print('Initial score: ', gridSearch.best_score_)\n",
    "print('Initial parameters: ', gridSearch.best_params_)"
   ]
  },
  {
   "cell_type": "code",
   "execution_count": null,
   "metadata": {},
   "outputs": [],
   "source": [
    "coefs = pd.DataFrame([X_train.columns, model.coef_[0]])"
   ]
  },
  {
   "cell_type": "code",
   "execution_count": null,
   "metadata": {},
   "outputs": [],
   "source": [
    "coefs = [list(X_train.columns), model.coef_[0]]\n",
    "coef = pd.DataFrame(np.array(coefs).transpose())"
   ]
  },
  {
   "cell_type": "code",
   "execution_count": null,
   "metadata": {},
   "outputs": [],
   "source": [
    "print(coef.set_index(coef[0]).to_latex())"
   ]
  },
  {
   "cell_type": "code",
   "execution_count": null,
   "metadata": {},
   "outputs": [],
   "source": [
    "import statsmodels.api as sm"
   ]
  },
  {
   "cell_type": "code",
   "execution_count": null,
   "metadata": {},
   "outputs": [],
   "source": [
    "from util.dataset_manipulation import (get_dataset, create_additional_columns,\n",
    "                                       clean_attrition_dataset, create_salary_bins)"
   ]
  },
  {
   "cell_type": "code",
   "execution_count": null,
   "metadata": {},
   "outputs": [],
   "source": [
    "def create_categorical_variables(df: pd.DataFrame, create_dummies: bool = True) -> pd.DataFrame:\n",
    "    '''Creates categorical variables for `Gender`, `City` and `Education_level`'''\n",
    "    df.Gender = df.Gender.astype(\"category\")\n",
    "    df.City = df.City.astype(\"category\")\n",
    "    df.Education_Level = df.Education_Level.astype(\"category\")\n",
    "    df.delta_designation = df.delta_designation.astype(\"category\")\n",
    "\n",
    "    if create_dummies:\n",
    "        df = pd.get_dummies(df, prefix_sep=\"_\", drop_first=True)\n",
    "\n",
    "    return df"
   ]
  },
  {
   "cell_type": "code",
   "execution_count": null,
   "metadata": {},
   "outputs": [],
   "source": [
    "df = get_dataset(\"train_data.csv\")\n",
    "df = clean_attrition_dataset(df)\n",
    "df = create_additional_columns(df)\n",
    "df = create_categorical_variables(df, True)\n",
    "df = create_salary_bins(df)"
   ]
  },
  {
   "cell_type": "code",
   "execution_count": null,
   "metadata": {},
   "outputs": [],
   "source": [
    "X = df.drop(columns=[\"Date\",\n",
    "                     \"Attrition\",\n",
    "                     \"Emp_ID\",\n",
    "                     \"Date_Of_Joining\",\n",
    "                     \"Last_Working_Date\",\n",
    "                     \"Joining_Designation\",\n",
    "                     \"Designation\",\n",
    "                     \"Total_Business_Value\",\n",
    "                     # \"Work_Duration\",\n",
    "                     # \"Salary\"\n",
    "                     \"salary_bin\"\n",
    "                     ]\n",
    "            )\n",
    "y = df[\"Attrition\"]"
   ]
  },
  {
   "cell_type": "code",
   "execution_count": null,
   "metadata": {},
   "outputs": [],
   "source": [
    "X_train, X_test, y_train, y_test = train_test_split(X, y, test_size=0.2, random_state=4259)"
   ]
  },
  {
   "cell_type": "code",
   "execution_count": null,
   "metadata": {},
   "outputs": [],
   "source": [
    "log_reg = sm.Logit(y_train, X_train).fit()"
   ]
  },
  {
   "cell_type": "code",
   "execution_count": null,
   "metadata": {},
   "outputs": [],
   "source": [
    "print(log_reg.summary().as_latex())"
   ]
  },
  {
   "cell_type": "code",
   "execution_count": null,
   "metadata": {},
   "outputs": [],
   "source": [
    "y_hat = log_reg.predict(X_test)\n",
    "prediction = list(map(round, y_hat))\n",
    "\n",
    "# comparing original and predicted values of y\n",
    "# print('Actual values', list(y_test.values))\n",
    "# print('Predictions :', prediction)"
   ]
  },
  {
   "cell_type": "code",
   "execution_count": null,
   "metadata": {},
   "outputs": [],
   "source": [
    "from sklearn.metrics import (confusion_matrix,\n",
    "                             accuracy_score)\n",
    "\n",
    "# confusion matrix\n",
    "cm = confusion_matrix(y_test, prediction)\n",
    "print(\"Confusion Matrix : \\n\", cm)\n",
    "\n",
    "# accuracy score of the model\n",
    "print('Test accuracy = ', accuracy_score(y_test, prediction))"
   ]
  }
 ],
 "metadata": {
  "kernelspec": {
   "display_name": "Python 3.10.6 ('BBAN4001')",
   "language": "python",
   "name": "python3"
  },
  "language_info": {
   "codemirror_mode": {
    "name": "ipython",
    "version": 3
   },
   "file_extension": ".py",
   "mimetype": "text/x-python",
   "name": "python",
   "nbconvert_exporter": "python",
   "pygments_lexer": "ipython3",
   "version": "3.10.6"
  },
  "orig_nbformat": 4,
  "vscode": {
   "interpreter": {
    "hash": "86fabab976776320eaf4bdaeda52712b4cb14f050112e1c627f96d363bf06f2f"
   }
  }
 },
 "nbformat": 4,
 "nbformat_minor": 2
}