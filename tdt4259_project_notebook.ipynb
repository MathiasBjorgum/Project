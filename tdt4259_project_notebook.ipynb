{
 "cells": [
  {
   "cell_type": "markdown",
   "metadata": {},
   "source": [
    "# Notebook for the project in *TDT4259 - Applied Data Science*"
   ]
  },
  {
   "cell_type": "markdown",
   "metadata": {},
   "source": [
    "Necessary imports"
   ]
  },
  {
   "cell_type": "code",
   "execution_count": 1,
   "metadata": {},
   "outputs": [],
   "source": [
    "import sys\n",
    "import os\n",
    "\n",
    "import pandas as pd\n",
    "import numpy as np\n",
    "sys.path.append(\".\")\n",
    "\n",
    "from util.util import get_dataset, clean_attrition_dataset"
   ]
  },
  {
   "cell_type": "markdown",
   "metadata": {},
   "source": [
    "We start by preprocessing the columns to be on a concise format."
   ]
  },
  {
   "cell_type": "code",
   "execution_count": 4,
   "metadata": {},
   "outputs": [],
   "source": [
    "raw_dataset = get_dataset(\"train_data.csv\")\n",
    "cleaned_dataset = clean_attrition_dataset(raw_dataset)"
   ]
  },
  {
   "cell_type": "code",
   "execution_count": 3,
   "metadata": {},
   "outputs": [
    {
     "name": "stdout",
     "output_type": "stream",
     "text": [
      "<class 'pandas.core.frame.DataFrame'>\n",
      "RangeIndex: 19104 entries, 0 to 19103\n",
      "Data columns (total 13 columns):\n",
      " #   Column                Non-Null Count  Dtype         \n",
      "---  ------                --------------  -----         \n",
      " 0   Date                  19104 non-null  datetime64[ns]\n",
      " 1   Emp_ID                19104 non-null  int64         \n",
      " 2   Age                   19104 non-null  int64         \n",
      " 3   Gender                19104 non-null  object        \n",
      " 4   City                  19104 non-null  object        \n",
      " 5   Education_Level       19104 non-null  object        \n",
      " 6   Salary                19104 non-null  int64         \n",
      " 7   Date_Of_Joining       19104 non-null  datetime64[ns]\n",
      " 8   Last_Working_Date     1616 non-null   datetime64[ns]\n",
      " 9   Joining_Designation   19104 non-null  int64         \n",
      " 10  Designation           19104 non-null  int64         \n",
      " 11  Total_Business_Value  19104 non-null  int64         \n",
      " 12  Quarterly_Rating      19104 non-null  int64         \n",
      "dtypes: datetime64[ns](3), int64(7), object(3)\n",
      "memory usage: 1.9+ MB\n"
     ]
    }
   ],
   "source": [
    "cleaned_dataset.info()"
   ]
  }
 ],
 "metadata": {
  "kernelspec": {
   "display_name": "Python 3.10.6 ('BBAN4001')",
   "language": "python",
   "name": "python3"
  },
  "language_info": {
   "codemirror_mode": {
    "name": "ipython",
    "version": 3
   },
   "file_extension": ".py",
   "mimetype": "text/x-python",
   "name": "python",
   "nbconvert_exporter": "python",
   "pygments_lexer": "ipython3",
   "version": "3.10.6"
  },
  "orig_nbformat": 4,
  "vscode": {
   "interpreter": {
    "hash": "86fabab976776320eaf4bdaeda52712b4cb14f050112e1c627f96d363bf06f2f"
   }
  }
 },
 "nbformat": 4,
 "nbformat_minor": 2
}
