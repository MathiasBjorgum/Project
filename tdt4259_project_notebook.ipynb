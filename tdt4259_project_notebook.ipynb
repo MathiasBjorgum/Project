{
 "cells": [
  {
   "cell_type": "markdown",
   "metadata": {},
   "source": [
    "# Notebook for the project in *TDT4259 - Applied Data Science*"
   ]
  },
  {
   "cell_type": "markdown",
   "metadata": {},
   "source": [
    "Necessary imports"
   ]
  },
  {
   "cell_type": "code",
   "execution_count": 14,
   "metadata": {},
   "outputs": [],
   "source": [
    "import sys\n",
    "import os\n",
    "from datetime import datetime, timedelta\n",
    "\n",
    "import warnings\n",
    "warnings.filterwarnings(\"ignore\")\n",
    "import pandas as pd\n",
    "import numpy as np\n",
    "sys.path.append(\".\")\n",
    "\n",
    "from util.util import get_dataset, clean_attrition_dataset, create_additional_columns, remove_duplicates_and_fill_na"
   ]
  },
  {
   "cell_type": "markdown",
   "metadata": {},
   "source": [
    "We start by preprocessing the columns to be on a concise format."
   ]
  },
  {
   "cell_type": "code",
   "execution_count": 24,
   "metadata": {},
   "outputs": [],
   "source": [
    "raw_dataset = get_dataset(\"train_data.csv\")\n",
    "cleaned_dataset = clean_attrition_dataset(raw_dataset)\n",
    "dataset_with_more_cols = create_additional_columns(cleaned_dataset)\n",
    "final_dataset = remove_duplicates_and_fill_na(dataset_with_more_cols)\n",
    "final_dataset[\"Work_Duration\"] = (final_dataset.Last_Working_Date - final_dataset.Date_Of_Joining).dt.days"
   ]
  },
  {
   "cell_type": "code",
   "execution_count": 23,
   "metadata": {},
   "outputs": [],
   "source": []
  }
 ],
 "metadata": {
  "kernelspec": {
   "display_name": "Python 3.10.6 ('BBAN4001')",
   "language": "python",
   "name": "python3"
  },
  "language_info": {
   "codemirror_mode": {
    "name": "ipython",
    "version": 3
   },
   "file_extension": ".py",
   "mimetype": "text/x-python",
   "name": "python",
   "nbconvert_exporter": "python",
   "pygments_lexer": "ipython3",
   "version": "3.10.6"
  },
  "orig_nbformat": 4,
  "vscode": {
   "interpreter": {
    "hash": "86fabab976776320eaf4bdaeda52712b4cb14f050112e1c627f96d363bf06f2f"
   }
  }
 },
 "nbformat": 4,
 "nbformat_minor": 2
}
